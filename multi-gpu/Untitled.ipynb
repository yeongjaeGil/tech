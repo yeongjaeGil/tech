{
 "cells": [
  {
   "cell_type": "markdown",
   "metadata": {},
   "source": [
    "#### use multiple GPUs using DataParallel\n",
    "- It's natural to execute your forward, backward popagaions on multiple GPUs.\n",
    "- 모델과 데이터를 멀티 GPU를 사용하는 건 다르게 생각해야함"
   ]
  },
  {
   "cell_type": "code",
   "execution_count": 18,
   "metadata": {},
   "outputs": [],
   "source": [
    "import torch\n",
    "import torch.nn as nn\n",
    "from torch.utils.data import Dataset, DataLoader"
   ]
  },
  {
   "cell_type": "code",
   "execution_count": 19,
   "metadata": {},
   "outputs": [],
   "source": [
    "input_size = 5\n",
    "output_size = 2\n",
    "batch_size = 30\n",
    "data_size = 100"
   ]
  },
  {
   "cell_type": "code",
   "execution_count": 33,
   "metadata": {},
   "outputs": [],
   "source": [
    "class RandomDataset(Dataset):\n",
    "    def __init__(self, size, length):\n",
    "        self.len = length\n",
    "        self.x = torch.randn(length, size)\n",
    "        self.y = torch.randn(length, 2)\n",
    "        \n",
    "    def __getitem__(self, index):\n",
    "        return self.x[index], self.y[index]\n",
    "    \n",
    "    def __len__(self):\n",
    "        return self.len\n",
    "rand_loader = DataLoader(dataset=RandomDataset(input_size, data_size), batch_size=batch_size, shuffle=True)"
   ]
  },
  {
   "cell_type": "code",
   "execution_count": 34,
   "metadata": {},
   "outputs": [],
   "source": [
    "class Model(nn.Module):\n",
    "    def __init__(self, input_size, output_size):\n",
    "        super(Model, self).__init__()\n",
    "        self.fc = nn.Linear(input_size, output_size)\n",
    "    \n",
    "    def forward(self, input):\n",
    "        output = self.fc(input)\n",
    "        print('In Model: input size', input.size(), \"output size\", output.size())\n",
    "        return output"
   ]
  },
  {
   "cell_type": "code",
   "execution_count": 35,
   "metadata": {},
   "outputs": [
    {
     "name": "stdout",
     "output_type": "stream",
     "text": [
      "Let's use 2 Gpus!\n"
     ]
    }
   ],
   "source": [
    "model = Model(input_size, output_size)\n",
    "if torch.cuda.device_count() > 1:\n",
    "    print(\"Let's use\", torch.cuda.device_count(), \"Gpus!\")\n",
    "    model = nn.DataParallel(model)"
   ]
  },
  {
   "cell_type": "code",
   "execution_count": 36,
   "metadata": {},
   "outputs": [
    {
     "data": {
      "text/plain": [
       "DataParallel(\n",
       "  (module): Model(\n",
       "    (fc): Linear(in_features=5, out_features=2, bias=True)\n",
       "  )\n",
       ")"
      ]
     },
     "execution_count": 36,
     "metadata": {},
     "output_type": "execute_result"
    }
   ],
   "source": [
    "model.to(device)"
   ]
  },
  {
   "cell_type": "code",
   "execution_count": 38,
   "metadata": {},
   "outputs": [
    {
     "name": "stdout",
     "output_type": "stream",
     "text": [
      "In Model: input size torch.Size([15, 5]) output size torch.Size([15, 2])\n",
      "In Model: input size torch.Size([15, 5]) output size torch.Size([15, 2])\n",
      "Outsize: input size torch.Size([30, 5]) output_size torch.Size([30, 2])\n",
      "In Model: input size torch.Size([15, 5]) output size torch.Size([15, 2])\n",
      "In Model: input size torch.Size([15, 5]) output size torch.Size([15, 2])\n",
      "Outsize: input size torch.Size([30, 5]) output_size torch.Size([30, 2])\n",
      "In Model: input size torch.Size([15, 5]) output size torch.Size([15, 2])\n",
      "In Model: input size torch.Size([15, 5]) output size torch.Size([15, 2])\n",
      "Outsize: input size torch.Size([30, 5]) output_size torch.Size([30, 2])\n",
      "In Model: input size torch.Size([5, 5]) output size torch.Size([5, 2])\n",
      "In Model: input size torch.Size([5, 5]) output size torch.Size([5, 2])\n",
      "Outsize: input size torch.Size([10, 5]) output_size torch.Size([10, 2])\n"
     ]
    }
   ],
   "source": [
    "for x,y in rand_loader:\n",
    "    input = x.to(device)\n",
    "    output = model(input)\n",
    "    print(\"Outsize: input size\", input.size(), \"output_size\", output.size())"
   ]
  },
  {
   "cell_type": "markdown",
   "metadata": {},
   "source": [
    "- splits single model onto different GPUs, rather than replicating the entire model on each GPU\n",
    "    - 10 layer 모델에서 DataParallel만 사용 시 각각 배치만큼 GPU가 데이터를 분할해서 가져가지면 model은 전체를 replicate를 해서 학습한다.\n",
    "    - 반면에 model을 분산처리하면 각각 GPU가 5개씩 담당한다.\n",
    "- The high level idea of model parallel is to place different sub-networks of a model onto different devices, and implement the forward method accordingly to move intermediate outputs across divices.\n",
    "- backward()나 torch.optim은 loss function을 부를때 ouputs로서 같은 디바이스에 labels을 달아주기만 하면 된다. (y label을 따라간다)"
   ]
  },
  {
   "cell_type": "code",
   "execution_count": 39,
   "metadata": {},
   "outputs": [],
   "source": [
    "import torch\n",
    "import torch.nn as nn\n",
    "import torch.optim as optim\n",
    "class ToyModel(nn.Module):\n",
    "    def __init__(self):\n",
    "        super(ToyModel, self).__init__()\n",
    "        self.net1 = torch.nn.Linear(5,10).to('cuda:0')\n",
    "        self.relu = torch.nn.ReLU()\n",
    "        self.net2 = torch.nn.Linear(10,2).to('cuda:1')\n",
    "    \n",
    "    def forward(self, x):\n",
    "        x = self.relu(self.net1(x.to('cuda:0')))\n",
    "        x = self.net2(x.to('cuda:1')) #모델을 태우는걸 GPU를 나눠 버린다, default를 설정하면 알아서 되는건가?\n",
    "        return x\n",
    "    "
   ]
  },
  {
   "cell_type": "code",
   "execution_count": 43,
   "metadata": {},
   "outputs": [
    {
     "name": "stdout",
     "output_type": "stream",
     "text": [
      "Outsize: input size torch.Size([30, 5]) output_size torch.Size([30, 2])\n",
      "Outsize: input size torch.Size([30, 5]) output_size torch.Size([30, 2])\n",
      "Outsize: input size torch.Size([30, 5]) output_size torch.Size([30, 2])\n",
      "Outsize: input size torch.Size([10, 5]) output_size torch.Size([10, 2])\n",
      "Outsize: input size torch.Size([30, 5]) output_size torch.Size([30, 2])\n",
      "Outsize: input size torch.Size([30, 5]) output_size torch.Size([30, 2])\n",
      "Outsize: input size torch.Size([30, 5]) output_size torch.Size([30, 2])\n",
      "Outsize: input size torch.Size([10, 5]) output_size torch.Size([10, 2])\n",
      "Outsize: input size torch.Size([30, 5]) output_size torch.Size([30, 2])\n",
      "Outsize: input size torch.Size([30, 5]) output_size torch.Size([30, 2])\n",
      "Outsize: input size torch.Size([30, 5]) output_size torch.Size([30, 2])\n",
      "Outsize: input size torch.Size([10, 5]) output_size torch.Size([10, 2])\n",
      "Outsize: input size torch.Size([30, 5]) output_size torch.Size([30, 2])\n",
      "Outsize: input size torch.Size([30, 5]) output_size torch.Size([30, 2])\n",
      "Outsize: input size torch.Size([30, 5]) output_size torch.Size([30, 2])\n",
      "Outsize: input size torch.Size([10, 5]) output_size torch.Size([10, 2])\n",
      "Outsize: input size torch.Size([30, 5]) output_size torch.Size([30, 2])\n",
      "Outsize: input size torch.Size([30, 5]) output_size torch.Size([30, 2])\n",
      "Outsize: input size torch.Size([30, 5]) output_size torch.Size([30, 2])\n",
      "Outsize: input size torch.Size([10, 5]) output_size torch.Size([10, 2])\n",
      "Outsize: input size torch.Size([30, 5]) output_size torch.Size([30, 2])\n",
      "Outsize: input size torch.Size([30, 5]) output_size torch.Size([30, 2])\n",
      "Outsize: input size torch.Size([30, 5]) output_size torch.Size([30, 2])\n",
      "Outsize: input size torch.Size([10, 5]) output_size torch.Size([10, 2])\n",
      "Outsize: input size torch.Size([30, 5]) output_size torch.Size([30, 2])\n",
      "Outsize: input size torch.Size([30, 5]) output_size torch.Size([30, 2])\n",
      "Outsize: input size torch.Size([30, 5]) output_size torch.Size([30, 2])\n",
      "Outsize: input size torch.Size([10, 5]) output_size torch.Size([10, 2])\n",
      "Outsize: input size torch.Size([30, 5]) output_size torch.Size([30, 2])\n",
      "Outsize: input size torch.Size([30, 5]) output_size torch.Size([30, 2])\n",
      "Outsize: input size torch.Size([30, 5]) output_size torch.Size([30, 2])\n",
      "Outsize: input size torch.Size([10, 5]) output_size torch.Size([10, 2])\n",
      "Outsize: input size torch.Size([30, 5]) output_size torch.Size([30, 2])\n",
      "Outsize: input size torch.Size([30, 5]) output_size torch.Size([30, 2])\n",
      "Outsize: input size torch.Size([30, 5]) output_size torch.Size([30, 2])\n",
      "Outsize: input size torch.Size([10, 5]) output_size torch.Size([10, 2])\n",
      "Outsize: input size torch.Size([30, 5]) output_size torch.Size([30, 2])\n",
      "Outsize: input size torch.Size([30, 5]) output_size torch.Size([30, 2])\n",
      "Outsize: input size torch.Size([30, 5]) output_size torch.Size([30, 2])\n",
      "Outsize: input size torch.Size([10, 5]) output_size torch.Size([10, 2])\n"
     ]
    }
   ],
   "source": [
    "model = ToyModel()\n",
    "loss_fn = nn.MSELoss()\n",
    "optimizer = optim.SGD(model.parameters(), lr =0.001)\n",
    "for _ in range(10):\n",
    "    for x,y in rand_loader:\n",
    "        input = x.to(device)\n",
    "        y = y.to('cuda:1')\n",
    "        optimizer.zero_grad()\n",
    "        output = model(input)\n",
    "        loss_fn(output, y).backward()\n",
    "        optimizer.step()\n",
    "        print(\"Outsize: input size\", input.size(), \"output_size\", output.size())"
   ]
  },
  {
   "cell_type": "markdown",
   "metadata": {},
   "source": [
    "- DistributedDataParallel(DDP) implements data parallelism at the module lever. It uses communication collectives in the torch.distributed packages to synchronize graidents, parameters, and buffers.\n",
    "- Parallelism is available both within a process and cross processes."
   ]
  },
  {
   "cell_type": "markdown",
   "metadata": {},
   "source": [
    "#### Comparision between DataParallel and DistributedDataParallel\n",
    "- DistributedDataParallel를 쓰는게 더 좋다.\n",
    "- 1. sigle GPU를 사용하는데 모델이 너무 큰 경우, model parallel로 모델을 쪼개서 GPUs로 연산하는게 좋다.\n",
    "- 2. DataParallel 은 싱글 프로세스, 멀티 쓰레드이고 한머신에서 작동한다. 반면에 DistributedDataParallel은 멀티 쓰레드가, 멀티 머신러닝 트레이닝에서 작동한다.\n",
    "- 3. single GPU를 사용하는 상황에서 데이터와 모델이 둘다 매우 크면, DistributedDataParallel를 사용. GPu는 모델에 사용되고 모든 프로세스들은 데이터를 병렬처리하는데 사용된다. Q) 이게 정확하게 맞는지 모르겠음!"
   ]
  },
  {
   "cell_type": "code",
   "execution_count": 46,
   "metadata": {},
   "outputs": [],
   "source": [
    "from torch.utils.tensorboard import SummaryWriter"
   ]
  },
  {
   "cell_type": "code",
   "execution_count": null,
   "metadata": {},
   "outputs": [],
   "source": []
  }
 ],
 "metadata": {
  "kernelspec": {
   "display_name": "Python 3.6.5 64-bit ('pytorch_p36': conda)",
   "language": "python",
   "name": "python36564bitpytorchp36conda8d7b5c7a86154bafb9f90626904da5ac"
  },
  "language_info": {
   "codemirror_mode": {
    "name": "ipython",
    "version": 3
   },
   "file_extension": ".py",
   "mimetype": "text/x-python",
   "name": "python",
   "nbconvert_exporter": "python",
   "pygments_lexer": "ipython3",
   "version": "3.6.5"
  }
 },
 "nbformat": 4,
 "nbformat_minor": 2
}
